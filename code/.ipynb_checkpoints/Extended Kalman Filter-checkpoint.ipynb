{
 "cells": [
  {
   "cell_type": "markdown",
   "metadata": {},
   "source": [
    "# 0. Initialization"
   ]
  },
  {
   "cell_type": "code",
   "execution_count": 6,
   "metadata": {},
   "outputs": [],
   "source": [
    "from __future__ import division, print_function\n",
    "import math\n",
    "import numpy as np\n",
    "import matplotlib.pyplot as plt"
   ]
  },
  {
   "cell_type": "markdown",
   "metadata": {},
   "source": [
    "## 0.1 Initialize Mean Vector: Mu"
   ]
  },
  {
   "cell_type": "code",
   "execution_count": 7,
   "metadata": {},
   "outputs": [],
   "source": [
    "mu = np.array([-4.0, -4.0, math.pi / 2])"
   ]
  },
  {
   "cell_type": "markdown",
   "metadata": {},
   "source": [
    "## 0.2 Initialize Covariance Matrix: Sigma"
   ]
  },
  {
   "cell_type": "code",
   "execution_count": 8,
   "metadata": {},
   "outputs": [],
   "source": [
    "Sigma = np.eye(3)"
   ]
  },
  {
   "cell_type": "code",
   "execution_count": 9,
   "metadata": {},
   "outputs": [
    {
     "data": {
      "text/plain": [
       "array([[1., 0., 0.],\n",
       "       [0., 1., 0.],\n",
       "       [0., 0., 1.]])"
      ]
     },
     "execution_count": 9,
     "metadata": {},
     "output_type": "execute_result"
    }
   ],
   "source": [
    "Sigma"
   ]
  },
  {
   "cell_type": "markdown",
   "metadata": {},
   "source": [
    "## 0.3 Initialize Process noise Covariance: R"
   ]
  },
  {
   "cell_type": "code",
   "execution_count": 17,
   "metadata": {},
   "outputs": [],
   "source": [
    "R = (1E-4) * np.array([[2, 0, 0], [0, 2, 0], [0, 0, math.pi / 180]])"
   ]
  },
  {
   "cell_type": "code",
   "execution_count": 18,
   "metadata": {},
   "outputs": [
    {
     "data": {
      "text/plain": [
       "array([[2.00000000e-04, 0.00000000e+00, 0.00000000e+00],\n",
       "       [0.00000000e+00, 2.00000000e-04, 0.00000000e+00],\n",
       "       [0.00000000e+00, 0.00000000e+00, 1.74532925e-06]])"
      ]
     },
     "execution_count": 18,
     "metadata": {},
     "output_type": "execute_result"
    }
   ],
   "source": [
    "R"
   ]
  },
  {
   "cell_type": "markdown",
   "metadata": {},
   "source": [
    "## 0.4 Initialize Measurement Noise Covariance: Q"
   ]
  },
  {
   "cell_type": "code",
   "execution_count": 19,
   "metadata": {},
   "outputs": [],
   "source": [
    "Q = (1E-6) * np.array([[1, 0], [0, math.pi / 180]])"
   ]
  },
  {
   "cell_type": "code",
   "execution_count": null,
   "metadata": {},
   "outputs": [],
   "source": []
  },
  {
   "cell_type": "markdown",
   "metadata": {},
   "source": [
    "# 3. Class Definitions"
   ]
  },
  {
   "cell_type": "code",
   "execution_count": null,
   "metadata": {},
   "outputs": [],
   "source": []
  },
  {
   "cell_type": "code",
   "execution_count": 5,
   "metadata": {},
   "outputs": [],
   "source": [
    "import numpy as np\n",
    "\n",
    "class EKF(object):\n",
    "    # Construct an EKF instance with the following set of variables\n",
    "    #    mu:                 The initial mean vector\n",
    "    #    Sigma:              The initial covariance matrix\n",
    "    #    R:                  The process noise covariance\n",
    "    #    Q:                  The measurement noise covariance\n",
    "    def __init__(self, mu, Sigma, R, Q):\n",
    "        self.mu = mu\n",
    "        self.Sigma = Sigma\n",
    "        self.R = R\n",
    "        self.Q = Q\n",
    "\n",
    "\n",
    "        # Your code goes here\n",
    "        print(\"Please add code\")\n",
    "\n",
    "\n",
    "    def getMean(self):\n",
    "        return self.mu\n",
    "\n",
    "\n",
    "    def getCovariance(self):\n",
    "        return self.Sigma\n",
    "\n",
    "\n",
    "    def getVariances(self):\n",
    "        return np.array([[self.Sigma[0,0],self.Sigma[1,1],self.Sigma[2,2]]])\n",
    "        \n",
    "\n",
    "    # Perform the prediction step to determine the mean and covariance\n",
    "    # of the posterior belief given the current estimate for the mean\n",
    "    # and covariance, the control data, and the process model\n",
    "    #    u:                 The forward distance and change in heading\n",
    "    def prediction(self,u):\n",
    "\n",
    "        # Your code goes here\n",
    "        print(\"Please add code\")\n",
    "\n",
    "\n",
    "\n",
    "    # Perform the measurement update step to compute the posterior\n",
    "    # belief given the predictive posterior (mean and covariance) and\n",
    "    # the measurement data\n",
    "    #    z:                The squared distance to the sensor and the\n",
    "    #                      robot's heading\n",
    "    def update(self,z):\n",
    "        \n",
    "        # Your code goes here\n",
    "        print(\"Please add code\")\n"
   ]
  },
  {
   "cell_type": "code",
   "execution_count": null,
   "metadata": {},
   "outputs": [],
   "source": []
  },
  {
   "cell_type": "code",
   "execution_count": null,
   "metadata": {},
   "outputs": [],
   "source": []
  },
  {
   "cell_type": "code",
   "execution_count": null,
   "metadata": {},
   "outputs": [],
   "source": []
  }
 ],
 "metadata": {
  "kernelspec": {
   "display_name": "Python 3",
   "language": "python",
   "name": "python3"
  },
  "language_info": {
   "codemirror_mode": {
    "name": "ipython",
    "version": 3
   },
   "file_extension": ".py",
   "mimetype": "text/x-python",
   "name": "python",
   "nbconvert_exporter": "python",
   "pygments_lexer": "ipython3",
   "version": "3.6.7"
  }
 },
 "nbformat": 4,
 "nbformat_minor": 2
}
